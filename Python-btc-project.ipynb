{
 "cells": [
  {
   "cell_type": "code",
   "execution_count": 2,
   "metadata": {
    "collapsed": true
   },
   "outputs": [],
   "source": [
    "import requests\n",
    "bitcoin_api_url = 'https://api.coinmarketcap.com/v1/ticker/bitcoin/'\n",
    "response = requests.get(bitcoin_api_url)"
   ]
  },
  {
   "cell_type": "code",
   "execution_count": 3,
   "metadata": {
    "collapsed": true
   },
   "outputs": [],
   "source": [
    "response_json = response.json()"
   ]
  },
  {
   "cell_type": "code",
   "execution_count": 4,
   "metadata": {},
   "outputs": [
    {
     "data": {
      "text/plain": [
       "{'24h_volume_usd': '17215334221.3',\n",
       " 'available_supply': '17747075.0',\n",
       " 'id': 'bitcoin',\n",
       " 'last_updated': '1559996434',\n",
       " 'market_cap_usd': '142047567323',\n",
       " 'max_supply': '21000000.0',\n",
       " 'name': 'Bitcoin',\n",
       " 'percent_change_1h': '-0.05',\n",
       " 'percent_change_24h': '0.52',\n",
       " 'percent_change_7d': '-6.44',\n",
       " 'price_btc': '1.0',\n",
       " 'price_usd': '8003.998818',\n",
       " 'rank': '1',\n",
       " 'symbol': 'BTC',\n",
       " 'total_supply': '17747075.0'}"
      ]
     },
     "execution_count": 4,
     "metadata": {},
     "output_type": "execute_result"
    }
   ],
   "source": [
    "response_json[0]"
   ]
  },
  {
   "cell_type": "code",
   "execution_count": 5,
   "metadata": {},
   "outputs": [
    {
     "data": {
      "text/plain": [
       "<Response [200]>"
      ]
     },
     "execution_count": 5,
     "metadata": {},
     "output_type": "execute_result"
    }
   ],
   "source": [
    "ifttt_webhook_url = 'https://maker.ifttt.com/trigger/test_event/with/key/dGNPI8umfaue1TKnuCEaNCc3RonX0o9UC_1Vg0rYVFQ'\n",
    "requests.post(ifttt_webhook_url)"
   ]
  },
  {
   "cell_type": "code",
   "execution_count": 6,
   "metadata": {
    "collapsed": true
   },
   "outputs": [],
   "source": [
    "import time\n",
    "from datetime import datetime\n",
    "def main():\n",
    "    pass\n",
    "\n",
    "if __name__ == 'main':\n",
    "    main()"
   ]
  },
  {
   "cell_type": "code",
   "execution_count": 7,
   "metadata": {
    "collapsed": true
   },
   "outputs": [],
   "source": [
    "# Define the bitcoin API URL + IFTTT webhook URL with gap for event to be\n",
    "# input via the functions below\n",
    "BITCOIN_API_URL = 'https://api.coinmarketcap.com/v1/ticker/bitcoin/'\n",
    "IFTTT_WEBHOOKS_URL = 'https://maker.ifttt.com/trigger/{}/with/key/dGNPI8umfaue1TKnuCEaNCc3RonX0o9UC_1Vg0rYVFQ'"
   ]
  },
  {
   "cell_type": "code",
   "execution_count": 8,
   "metadata": {
    "collapsed": true
   },
   "outputs": [],
   "source": [
    "def get_latest_bitcoin_price():\n",
    "    response = requests.get(BITCOIN_API_URL)\n",
    "    response_json = response.json()\n",
    "    # convert the price to a float\n",
    "    return float(response_json[0]['price_usd'])\n",
    "\n",
    "def post_ifttt_webhook(event, value):\n",
    "    # payload to be sent to the IFTTT service\n",
    "    data = {'value1': value}\n",
    "    # insert our desired event\n",
    "    ifttt_event_url = IFTTT_WEBHOOKS_URL.format(event)\n",
    "    # post request to the IFTTT webhook URL\n",
    "    requests.post(ifttt_event_url, json=data)\n"
   ]
  },
  {
   "cell_type": "code",
   "execution_count": 9,
   "metadata": {
    "collapsed": true
   },
   "outputs": [],
   "source": [
    "# define the main function which will run on a timer\n",
    "BITCOIN_PRICE_THRESHOLD = 7500  # Set this to whatever you like\n",
    "\n",
    "def main():\n",
    "    bitcoin_history = []\n",
    "    while True:\n",
    "        price = get_latest_bitcoin_price()\n",
    "        date = datetime.now()\n",
    "        bitcoin_history.append({'date': date, 'price': price})\n",
    "        \n",
    "        # send an emergency notification\n",
    "        if price < BITCOIN_PRICE_THRESHOLD:\n",
    "            post_ifttt_webhook('bitcoin_price_emergency', price)\n",
    "            \n",
    "        # send a messenger notification when we have 5 prices in the history\n",
    "        if len(bitcoin_history) == 5:\n",
    "            post_ifttt_webhook('bitcoin_price_update',\n",
    "                              format_bitcoin_history(bitcoin_history))\n",
    "            \n",
    "            # reset the history\n",
    "            bitcoin_history = []\n",
    "            \n",
    "        # Sleep for a minute\n",
    "        time.sleep(1 * 60)"
   ]
  },
  {
   "cell_type": "code",
   "execution_count": 10,
   "metadata": {
    "collapsed": true
   },
   "outputs": [],
   "source": [
    "# defining the format_bitcoin_history function which will format the data\n",
    "# we receive from the get request into HTML table format\n",
    "def format_bitcoin_history(bitcoin_history):\n",
    "    rows = []\n",
    "    for bitcoin_price in bitcoin_history:\n",
    "        # format the date component to a string:\n",
    "        date = bitcoin_price['date'].strftime('%d.%m.%Y %H:%M')\n",
    "        price = bitcoin_price['price']\n",
    "        # <b> bold tag creates bolded text\n",
    "        row = '{}: $<b>{}</b>'.format(date, price)\n",
    "        rows.append(row)\n",
    "    \n",
    "    # use a <br> (break) tag to create a new line\n",
    "    # Join the rows delimited by <br> tag: row1<br>row2<br>row3\n",
    "    return '<br>'.join(rows)"
   ]
  },
  {
   "cell_type": "code",
   "execution_count": null,
   "metadata": {},
   "outputs": [],
   "source": [
    "main()"
   ]
  }
 ],
 "metadata": {
  "kernelspec": {
   "display_name": "Python 3",
   "language": "python",
   "name": "python3"
  },
  "language_info": {
   "codemirror_mode": {
    "name": "ipython",
    "version": 3
   },
   "file_extension": ".py",
   "mimetype": "text/x-python",
   "name": "python",
   "nbconvert_exporter": "python",
   "pygments_lexer": "ipython3",
   "version": "3.5.0"
  }
 },
 "nbformat": 4,
 "nbformat_minor": 2
}
